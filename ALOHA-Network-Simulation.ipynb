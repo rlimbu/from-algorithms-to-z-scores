{
 "cells": [
  {
   "cell_type": "markdown",
   "metadata": {},
   "source": [
    "### <font color=red>ALOHA Network Simulation </font>"
   ]
  },
  {
   "cell_type": "markdown",
   "metadata": {},
   "source": [
    "The following code implements the simulation of a 2-node ALOHA network. It is based on a problem posed in Dr. Norman Matloff's open textbook *From Algorithms to Z-Scores: Probabilistic and Statistical Modeling in Computer Science*, which can be downloaded from [here](http://heather.cs.ucdavis.edu/probstatbook). \n",
    "\n",
    "The salient features of the network are follows:\n",
    "\n",
    "* The nodes share a common channel for sending messages\n",
    "* Only one message can be sent through various time segments known as epochs, denoted by $k=0, 1, 2, 3 \\ldots n$\n",
    "* Only one node can send a message through the channel at the end of an epoch. If both nodes try to send a message at the same time, collision occurs and no message gets sent\n",
    "* A node is said to be active if it has a message to send\n",
    "* At epoch $k = 0$, both nodes have messages to send. Hence, both nodes start out active\n",
    "* X is a random variable that holds the total number of active nodes at the end of epoch $k$. Hence, $X_k = 2$ for $k=0$\n",
    "* Each node sends a message with probability $p=0.4$ if there is a message to send\n",
    "* If a node does not have a message to send, it generates a new message in the middle of an epoch with probability $q=0.8 \n",
    "\n",
    "The following code simulates the ALOHA network for two epochs, i.e. $k_1 = 1, 2 $, and calculates the following probabilities:\n",
    "\\begin{align}\n",
    "1. & P(X_1=2)\\\\\n",
    "2. & P(X_2=2)\\\\\n",
    "3. & P(X_1=2 \\cap X_2=2)\\\\\n",
    "4. & P(X_2=2 \\mid X_1=2)\n",
    "\\end{align}\n",
    "\n",
    "\n"
   ]
  },
  {
   "cell_type": "code",
   "execution_count": 19,
   "metadata": {
    "collapsed": true
   },
   "outputs": [],
   "source": [
    "# import the requird libraries\n",
    "import numpy as np\n",
    "\n",
    "# declare some \"constants\"\n",
    "n_simulations = 1000000\n",
    "n_nodes = 2\n",
    "n_epochs = 3\n",
    "p = 0.4\n",
    "q = 0.8\n",
    "\n",
    "# seed the random number generator\n",
    "np.random.seed(5)\n",
    "\n",
    "# create and popuplate an ndarray with probabilities for a new node to generaten a message\n",
    "prob_gen_msg = np.random.random((n_simulations, n_epochs, n_nodes))\n",
    "\n",
    "# generate (or not) the message based on prob_gen_msg\n",
    "gen_msg = (prob_gen_msg <= q).astype(int)\n",
    "\n",
    "# create and popuplate an ndarray with probabilities for a new node to send a message\n",
    "prob_send_msg = np.random.random((n_simulations, n_epochs, n_nodes)) \n",
    "\n",
    "# send (or not) the message based on prob_send_msg\n",
    "send_msg = (prob_send_msg <= p).astype(int)\n",
    "\n",
    "# create and popuplate an ndarray with 0s to hold node states at the end of each epoch\n",
    "node_states = np.zeros((n_simulations, n_epochs, n_nodes)) \n",
    "\n",
    "# since both nodes start out active, set both nodes to 1 at epoch k = 0\n",
    "node_states[:, 0, :] = 1"
   ]
  },
  {
   "cell_type": "markdown",
   "metadata": {
    "collapsed": true
   },
   "source": [
    "During each epoch, implement the followings:\n",
    "\n",
    "* For all nodes that were inactive at the end of the last epoch, try to generate new messages with probability q. Update the state of the nodes to active if messages were generated for them\n",
    "* For all nodes that are active, try to send messages with probability p. If there is only one node that tries to send a message, update the state of that node to inactive."
   ]
  },
  {
   "cell_type": "code",
   "execution_count": 5,
   "metadata": {
    "collapsed": true
   },
   "outputs": [],
   "source": [
    "# start simulations\n",
    "for i in range(n_simulations):\n",
    "    for j in range(1, n_epochs):\n",
    "        for k in range(n_nodes):        \n",
    "            if node_states[i, j - 1, k] == 0:\n",
    "                node_states[i, j, k] = gen_msg [i, j, k]\n",
    "            else:\n",
    "                node_states[i, j, k] = 1 # node was active in previous epoch. Just copy it        \n",
    "        \n",
    "        if np.sum(send_msg [i, j, :]) == 1:\n",
    "            for k in range(n_nodes): \n",
    "                if send_msg [i, j, k] == 1:\n",
    "                    node_states[i, j, k] = 0\n",
    "                    break # there should be only one node that sends messages                   \n",
    "           "
   ]
  },
  {
   "cell_type": "markdown",
   "metadata": {},
   "source": [
    "Now that the simulations have been completed, capture $X_k$ where $k=0 \\ldots n$."
   ]
  },
  {
   "cell_type": "code",
   "execution_count": 6,
   "metadata": {
    "collapsed": true
   },
   "outputs": [],
   "source": [
    "# create and populate an ndarray to hold events X_1=2 and X_2=2, and initialise them with 0's\n",
    "X_k = np.zeros((n_simulations, n_epochs)) \n",
    "\n",
    "# populate X_1 and X_2, summing active nodes during each episode\n",
    "X_k = np.sum(node_states[:, 1:, :], axis=2) # ignore epoch 0"
   ]
  },
  {
   "cell_type": "code",
   "execution_count": 7,
   "metadata": {},
   "outputs": [
    {
     "data": {
      "text/plain": [
       "0.52040399999999998"
      ]
     },
     "execution_count": 7,
     "metadata": {},
     "output_type": "execute_result"
    }
   ],
   "source": [
    "# Calculate P(X_1 == 2)\n",
    "np.mean(X_k[:, 0]==2)"
   ]
  },
  {
   "cell_type": "code",
   "execution_count": 8,
   "metadata": {},
   "outputs": [
    {
     "data": {
      "text/plain": [
       "0.47081299999999998"
      ]
     },
     "execution_count": 8,
     "metadata": {},
     "output_type": "execute_result"
    }
   ],
   "source": [
    "# Calculate P(X_2 == 2)\n",
    "np.mean(X_k[:, 1] == 2)"
   ]
  },
  {
   "cell_type": "code",
   "execution_count": 20,
   "metadata": {},
   "outputs": [
    {
     "name": "stdout",
     "output_type": "stream",
     "text": [
      "0.270993\n"
     ]
    }
   ],
   "source": [
    "# Calculate P(X_1 = 2) and P(X_2 = 2) -- I am sure there is a better way of doing it\n",
    "# np.sum(X_k[:, 0] == 2 and X_k[:, 1] == 2)\n",
    "K_1, K_2 = (X_k[:, 0]  == 2), (X_k[:, 1] == 2) \n",
    "print(sum(1 for i, j in zip(K_1, K_2) if i==True and j==True)/len(K_1))"
   ]
  },
  {
   "cell_type": "code",
   "execution_count": 21,
   "metadata": {},
   "outputs": [
    {
     "name": "stdout",
     "output_type": "stream",
     "text": [
      "0.520735812945\n"
     ]
    }
   ],
   "source": [
    "# Calculate P(X2=2 | X1=2)\n",
    "print(sum(1 for i, j in zip(K_1, K_2) if i==True and j==True)/sum(K_1==True))  "
   ]
  },
  {
   "cell_type": "markdown",
   "metadata": {},
   "source": [
    "In the open textbook mentioned above, these probabilities are worked out analytically."
   ]
  }
 ],
 "metadata": {
  "kernelspec": {
   "display_name": "Python 3",
   "language": "python",
   "name": "python3"
  },
  "language_info": {
   "codemirror_mode": {
    "name": "ipython",
    "version": 3
   },
   "file_extension": ".py",
   "mimetype": "text/x-python",
   "name": "python",
   "nbconvert_exporter": "python",
   "pygments_lexer": "ipython3",
   "version": "3.5.3"
  }
 },
 "nbformat": 4,
 "nbformat_minor": 2
}
